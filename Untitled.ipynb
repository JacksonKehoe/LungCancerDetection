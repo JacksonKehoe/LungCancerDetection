{
 "cells": [
  {
   "cell_type": "code",
   "execution_count": 2,
   "id": "0f3b61fe",
   "metadata": {},
   "outputs": [
    {
     "name": "stdout",
     "output_type": "stream",
     "text": [
      "Downloading data from https://storage.googleapis.com/tensorflow/tf-keras-datasets/mnist.npz\n",
      "11490434/11490434 [==============================] - 0s 0us/step\n",
      "Epoch 1/10\n",
      "469/469 [==============================] - 9s 17ms/step - loss: 0.3293 - accuracy: 0.9061 - val_loss: 0.0883 - val_accuracy: 0.9738\n",
      "Epoch 2/10\n",
      "469/469 [==============================] - 7s 15ms/step - loss: 0.0927 - accuracy: 0.9709 - val_loss: 0.0648 - val_accuracy: 0.9804\n",
      "Epoch 3/10\n",
      "469/469 [==============================] - 7s 15ms/step - loss: 0.0635 - accuracy: 0.9802 - val_loss: 0.0566 - val_accuracy: 0.9823\n",
      "Epoch 4/10\n",
      "469/469 [==============================] - 7s 16ms/step - loss: 0.0508 - accuracy: 0.9846 - val_loss: 0.0434 - val_accuracy: 0.9846\n",
      "Epoch 5/10\n",
      "469/469 [==============================] - 7s 16ms/step - loss: 0.0426 - accuracy: 0.9863 - val_loss: 0.0433 - val_accuracy: 0.9858\n",
      "Epoch 6/10\n",
      "469/469 [==============================] - 8s 16ms/step - loss: 0.0346 - accuracy: 0.9889 - val_loss: 0.0398 - val_accuracy: 0.9868\n",
      "Epoch 7/10\n",
      "469/469 [==============================] - 8s 16ms/step - loss: 0.0318 - accuracy: 0.9902 - val_loss: 0.0394 - val_accuracy: 0.9869\n",
      "Epoch 8/10\n",
      "469/469 [==============================] - 7s 16ms/step - loss: 0.0275 - accuracy: 0.9913 - val_loss: 0.0487 - val_accuracy: 0.9851\n",
      "Epoch 9/10\n",
      "469/469 [==============================] - 7s 16ms/step - loss: 0.0234 - accuracy: 0.9923 - val_loss: 0.0378 - val_accuracy: 0.9883\n",
      "Epoch 10/10\n",
      "469/469 [==============================] - 7s 16ms/step - loss: 0.0208 - accuracy: 0.9934 - val_loss: 0.0368 - val_accuracy: 0.9879\n",
      "313/313 [==============================] - 1s 4ms/step - loss: 0.0368 - accuracy: 0.9879\n",
      "Test accuracy: 0.9879000186920166\n"
     ]
    }
   ],
   "source": [
    "import keras\n",
    "from keras.datasets import mnist\n",
    "from keras.layers import Dense, Flatten, Conv2D, MaxPooling2D\n",
    "from keras.models import Sequential\n",
    "\n",
    "# Load the MNIST dataset\n",
    "(x_train, y_train), (x_test, y_test) = mnist.load_data()\n",
    "\n",
    "# Normalize the data\n",
    "x_train = x_train.astype('float32') / 255\n",
    "x_test = x_test.astype('float32') / 255\n",
    "\n",
    "# Reshape the data to be in the format (batch_size, height, width, channels)\n",
    "x_train = x_train.reshape((-1, 28, 28, 1))\n",
    "x_test = x_test.reshape((-1, 28, 28, 1))\n",
    "\n",
    "# Convert the labels to one-hot encoded vectors\n",
    "y_train = keras.utils.to_categorical(y_train, 10)\n",
    "y_test = keras.utils.to_categorical(y_test, 10)\n",
    "\n",
    "# Create the LeNet model\n",
    "model = Sequential()\n",
    "model.add(Conv2D(6, kernel_size=(5, 5), activation='relu', input_shape=(28, 28, 1)))\n",
    "model.add(MaxPooling2D(pool_size=(2, 2)))\n",
    "model.add(Conv2D(16, kernel_size=(5, 5), activation='relu'))\n",
    "model.add(MaxPooling2D(pool_size=(2, 2)))\n",
    "model.add(Flatten())\n",
    "model.add(Dense(120, activation='relu'))\n",
    "model.add(Dense(84, activation='relu'))\n",
    "model.add(Dense(10, activation='softmax'))\n",
    "\n",
    "# Compile the model\n",
    "model.compile(loss='categorical_crossentropy', optimizer='adam', metrics=['accuracy'])\n",
    "\n",
    "# Train the model\n",
    "model.fit(x_train, y_train, batch_size=128, epochs=10, validation_data=(x_test, y_test))\n",
    "\n",
    "# Evaluate the model\n",
    "test_loss, test_acc = model.evaluate(x_test, y_test)\n",
    "print('Test accuracy:', test_acc)\n"
   ]
  },
  {
   "cell_type": "code",
   "execution_count": null,
   "id": "1598a17f",
   "metadata": {},
   "outputs": [],
   "source": []
  }
 ],
 "metadata": {
  "kernelspec": {
   "display_name": "Python 3 (ipykernel)",
   "language": "python",
   "name": "python3"
  },
  "language_info": {
   "codemirror_mode": {
    "name": "ipython",
    "version": 3
   },
   "file_extension": ".py",
   "mimetype": "text/x-python",
   "name": "python",
   "nbconvert_exporter": "python",
   "pygments_lexer": "ipython3",
   "version": "3.9.7"
  }
 },
 "nbformat": 4,
 "nbformat_minor": 5
}
