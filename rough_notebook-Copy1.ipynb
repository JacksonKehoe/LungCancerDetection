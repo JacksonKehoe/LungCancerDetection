{
 "cells": [
  {
   "cell_type": "code",
   "execution_count": 1,
   "id": "8af4d46e-e505-47b5-afe9-b5aef90fed6e",
   "metadata": {},
   "outputs": [],
   "source": [
    "#This file will be used for rough code/experimentation"
   ]
  },
  {
   "cell_type": "code",
   "execution_count": 2,
   "id": "ce589f52-e4b5-4244-abdc-b8d0fa29256f",
   "metadata": {},
   "outputs": [
    {
     "ename": "ImportError",
     "evalue": "No module named tensorflow.keras.preprocessing",
     "output_type": "error",
     "traceback": [
      "\u001b[1;31m---------------------------------------------------------------------------\u001b[0m",
      "\u001b[1;31mImportError\u001b[0m                               Traceback (most recent call last)",
      "\u001b[1;32m<ipython-input-2-e57f006cfa18>\u001b[0m in \u001b[0;36m<module>\u001b[1;34m()\u001b[0m\n\u001b[0;32m      8\u001b[0m \u001b[1;32mfrom\u001b[0m \u001b[0mpathlib\u001b[0m \u001b[1;32mimport\u001b[0m \u001b[0mPath\u001b[0m\u001b[1;33m\u001b[0m\u001b[0m\n\u001b[0;32m      9\u001b[0m \u001b[1;32mimport\u001b[0m \u001b[0mglob\u001b[0m\u001b[1;33m\u001b[0m\u001b[0m\n\u001b[1;32m---> 10\u001b[1;33m \u001b[1;32mfrom\u001b[0m \u001b[0mtensorflow\u001b[0m\u001b[1;33m.\u001b[0m\u001b[0mkeras\u001b[0m\u001b[1;33m.\u001b[0m\u001b[0mpreprocessing\u001b[0m \u001b[1;32mimport\u001b[0m \u001b[0mimage\u001b[0m\u001b[1;33m\u001b[0m\u001b[0m\n\u001b[0m\u001b[0;32m     11\u001b[0m \u001b[1;32mfrom\u001b[0m \u001b[0mtensorflow\u001b[0m\u001b[1;33m.\u001b[0m\u001b[0mkeras\u001b[0m\u001b[1;33m.\u001b[0m\u001b[0mpreprocessing\u001b[0m\u001b[1;33m.\u001b[0m\u001b[0mimage\u001b[0m \u001b[1;32mimport\u001b[0m \u001b[0mImageDataGenerator\u001b[0m\u001b[1;33m\u001b[0m\u001b[0m\n\u001b[0;32m     12\u001b[0m \u001b[1;32mimport\u001b[0m \u001b[0mcv2\u001b[0m\u001b[1;33m\u001b[0m\u001b[0m\n",
      "\u001b[1;31mImportError\u001b[0m: No module named tensorflow.keras.preprocessing"
     ]
    }
   ],
   "source": [
    "#importing libraries as needed\n",
    "import pandas as pd\n",
    "import numpy as np \n",
    "import seaborn as sns\n",
    "import matplotlib.pyplot as plt\n",
    "import os\n",
    "import os.path\n",
    "from pathlib import Path\n",
    "import glob\n",
    "from tensorflow.keras.preprocessing import image\n",
    "from tensorflow.keras.preprocessing.image import ImageDataGenerator\n",
    "import cv2"
   ]
  },
  {
   "cell_type": "code",
   "execution_count": null,
   "id": "4e6c2313-fdea-4996-a2ed-0c5b8e10fb61",
   "metadata": {
    "scrolled": true
   },
   "outputs": [],
   "source": [
    "#read in csv files\n",
    "csv_path = 'csv_files/'\n",
    "df_image_id = pd.read_csv(csv_path + 'nih-cxr-lt_image_ids.csv')\n",
    "df_label_train = pd.read_csv(csv_path + 'nih-cxr-lt_single-label_train.csv')\n",
    "df_label_test = pd.read_csv(csv_path + 'nih-cxr-lt_single-label_test.csv')\n",
    "df_balanced_test = pd.read_csv(csv_path + 'nih-cxr-lt_single-label_balanced-test.csv')\n",
    "df_balanced_val = pd.read_csv(csv_path + 'nih-cxr-lt_single-label_balanced-val.csv')\n",
    "#there are 5 files:\n",
    "#all image ids\n",
    "#balanced testing dataset\n",
    "#balanced validation dataset\n",
    "#normal testing dataset\n",
    "#normal training dataset\n",
    "\n",
    "#fixing naming convention of a columns\n",
    "df_label_train.rename(columns = {'No Finding':'No_Finding'}, inplace = True)\n",
    "df_label_train.rename(columns = {'Subcutaneous Emphysema':'Subcutaneous_Emphysema'}, inplace = True)\n",
    "df_label_train.rename(columns = {'Tortuous Aorta':'Tortuous_Aorta'}, inplace = True)\n",
    "df_label_train.rename(columns = {'Calcification of the Aorta':'Calcification_of_the_Aorta'}, inplace = True)\n",
    "df_label_test.rename(columns = {'No Finding':'No_Finding'}, inplace = True)\n",
    "df_label_test.rename(columns = {'Subcutaneous Emphysema':'Subcutaneous_Emphysema'}, inplace = True)\n",
    "df_label_test.rename(columns = {'Tortuous Aorta':'Tortuous_Aorta'}, inplace = True)\n",
    "df_label_test.rename(columns = {'Calcification of the Aorta':'Calcification_of_the_Aorta'}, inplace = True)\n",
    "df_balanced_test.rename(columns = {'No Finding':'No_Finding'}, inplace = True)\n",
    "df_balanced_test.rename(columns = {'Subcutaneous Emphysema':'Subcutaneous_Emphysema'}, inplace = True)\n",
    "df_balanced_test.rename(columns = {'Tortuous Aorta':'Tortuous_Aorta'}, inplace = True)\n",
    "df_balanced_test.rename(columns = {'Calcification of the Aorta':'Calcification_of_the_Aorta'}, inplace = True)\n",
    "df_balanced_val.rename(columns = {'No Finding':'No_Finding'}, inplace = True)\n",
    "df_balanced_val.rename(columns = {'Subcutaneous Emphysema':'Subcutaneous_Emphysema'}, inplace = True)\n",
    "df_balanced_val.rename(columns = {'Tortuous Aorta':'Tortuous_Aorta'}, inplace = True)\n",
    "df_balanced_val.rename(columns = {'Calcification of the Aorta':'Calcification_of_the_Aorta'}, inplace = True)\n",
    "\n",
    "#create new dataframes that contain solely heart issues\n",
    "#include columns only with heart related labels\n",
    "#remove rows where all values are zero (no finding == 0 -> condition)\n",
    "#cant do one liner for dropping so have to use conditional drop\n",
    "df_label_train_heart = df_label_train[[\"id\", \"Cardiomegaly\", \"Infiltration\", \"Mass\", \"Nodule\", \"Tortuous_Aorta\", \"Calcification_of_the_Aorta\", \"No_Finding\", \"subject_id\"]]\n",
    "df_label_train_heart = df_label_train_heart.drop(df_label_train_heart[(df_label_train_heart.Cardiomegaly == 0) & (df_label_train_heart.Infiltration == 0) & (df_label_train_heart.Mass == 0) & (df_label_train_heart.Nodule == 0) & (df_label_train_heart.Tortuous_Aorta == 0) & (df_label_train_heart.Calcification_of_the_Aorta == 0) & (df_label_train_heart.No_Finding == 0) ].index)\n",
    "df_label_test_heart = df_label_test[[\"id\", \"Cardiomegaly\", \"Infiltration\", \"Mass\", \"Nodule\", \"Tortuous_Aorta\", \"Calcification_of_the_Aorta\", \"No_Finding\", \"subject_id\"]]\n",
    "df_label_test_heart = df_label_test_heart.drop(df_label_test_heart[(df_label_test_heart.Cardiomegaly == 0) & (df_label_test_heart.Infiltration == 0) & (df_label_test_heart.Mass == 0) & (df_label_test_heart.Nodule == 0) & (df_label_test_heart.Tortuous_Aorta == 0) & (df_label_test_heart.Calcification_of_the_Aorta == 0) & (df_label_test_heart.No_Finding == 0) ].index)\n",
    "df_balanced_test_heart = df_balanced_test[[\"id\", \"Cardiomegaly\", \"Infiltration\", \"Mass\", \"Nodule\", \"Tortuous_Aorta\", \"Calcification_of_the_Aorta\", \"No_Finding\", \"subject_id\"]]\n",
    "df_balanced_test_heart = df_balanced_test_heart.drop(df_balanced_test_heart[(df_balanced_test_heart.Cardiomegaly == 0) & (df_balanced_test_heart.Infiltration == 0) & (df_balanced_test_heart.Mass == 0) & (df_balanced_test_heart.Nodule == 0) & (df_balanced_test_heart.Tortuous_Aorta == 0) & (df_balanced_test_heart.Calcification_of_the_Aorta == 0) & (df_balanced_test_heart.No_Finding == 0) ].index)\n",
    "df_balanced_val_heart = df_balanced_val[[\"id\", \"Cardiomegaly\", \"Infiltration\", \"Mass\", \"Nodule\", \"Tortuous_Aorta\", \"Calcification_of_the_Aorta\", \"No_Finding\", \"subject_id\"]]\n",
    "df_balanced_val_heart = df_balanced_val_heart.drop(df_balanced_val_heart[(df_balanced_val_heart.Cardiomegaly == 0) & (df_balanced_val_heart.Infiltration == 0) & (df_balanced_val_heart.Mass == 0) & (df_balanced_val_heart.Nodule == 0) & (df_balanced_val_heart.Tortuous_Aorta == 0) & (df_balanced_val_heart.Calcification_of_the_Aorta == 0) & (df_balanced_val_heart.No_Finding == 0) ].index)\n",
    "display(df_label_train_heart)\n",
    "\n",
    "# #create new dataframes that contain solely lung issues (what we are currently concerned with)\n",
    "# #include columns only with lung related labels\n",
    "# #remove rows where all values are zero\n",
    "df_label_train_lung = df_label_train[[\"id\", \"Atelectasis\", \"Consolidation\", \"Edema\", \"Effusion\", \"Emphysema\", \"Fibrosis\", \"Hernia\", \"Infiltration\", \"Mass\", \"Nodule\", \"Pleural_Thickening\", \"Pneumonia\", \"Pneumothorax\", \"Pneumomediastinum\", \"No_Finding\", \"subject_id\"]]\n",
    "df_label_train_lung = df_label_train_lung.drop(df_label_train_lung[(df_label_train_lung.Atelectasis == 0) & (df_label_train_lung.Consolidation == 0) & (df_label_train_lung.Edema == 0) & (df_label_train_lung.Effusion == 0) & (df_label_train_lung.Emphysema == 0) & (df_label_train_lung.Fibrosis == 0) & (df_label_train_lung.Hernia == 0) & (df_label_train_lung.Infiltration == 0) & (df_label_train_lung.Mass == 0) & (df_label_train_lung.Nodule == 0) & (df_label_train_lung.Pleural_Thickening == 0) & (df_label_train_lung.Pneumonia == 0) & (df_label_train_lung.Pneumothorax == 0)& (df_label_train_lung.Pneumomediastinum == 0) & (df_label_train_lung.No_Finding == 0)].index)\n",
    "df_label_test_lung = df_label_test[[\"id\", \"Atelectasis\", \"Consolidation\", \"Edema\", \"Effusion\", \"Emphysema\", \"Fibrosis\", \"Hernia\", \"Infiltration\", \"Mass\", \"Nodule\", \"Pleural_Thickening\", \"Pneumonia\", \"Pneumothorax\", \"Pneumomediastinum\", \"No_Finding\", \"subject_id\"]]\n",
    "df_label_test_lung = df_label_test_lung.drop(df_label_test_lung[(df_label_test_lung.Atelectasis == 0) & (df_label_test_lung.Consolidation == 0) & (df_label_test_lung.Edema == 0) & (df_label_test_lung.Effusion == 0) & (df_label_test_lung.Emphysema == 0) & (df_label_test_lung.Fibrosis == 0) & (df_label_test_lung.Hernia == 0) & (df_label_test_lung.Infiltration == 0) & (df_label_test_lung.Mass == 0) & (df_label_test_lung.Nodule == 0) & (df_label_test_lung.Pleural_Thickening == 0) & (df_label_test_lung.Pneumonia == 0) & (df_label_test_lung.Pneumothorax == 0)& (df_label_test_lung.Pneumomediastinum == 0) & (df_label_test_lung.No_Finding == 0)].index)\n",
    "df_balanced_test_lung = df_balanced_test[[\"id\", \"Atelectasis\", \"Consolidation\", \"Edema\", \"Effusion\", \"Emphysema\", \"Fibrosis\", \"Hernia\", \"Infiltration\", \"Mass\", \"Nodule\", \"Pleural_Thickening\", \"Pneumonia\", \"Pneumothorax\", \"Pneumomediastinum\", \"No_Finding\", \"subject_id\"]]\n",
    "df_balanced_test_lung = df_balanced_test_lung.drop(df_balanced_test_lung[(df_balanced_test_lung.Atelectasis == 0) & (df_balanced_test_lung.Consolidation == 0) & (df_balanced_test_lung.Edema == 0) & (df_balanced_test_lung.Effusion == 0) & (df_balanced_test_lung.Emphysema == 0) & (df_balanced_test_lung.Fibrosis == 0) & (df_balanced_test_lung.Hernia == 0) & (df_balanced_test_lung.Infiltration == 0) & (df_balanced_test_lung.Mass == 0) & (df_balanced_test_lung.Nodule == 0) & (df_balanced_test_lung.Pleural_Thickening == 0) & (df_balanced_test_lung.Pneumonia == 0) & (df_balanced_test_lung.Pneumothorax == 0) & (df_balanced_test_lung.Pneumomediastinum == 0) & (df_balanced_test_lung.No_Finding == 0)].index)\n",
    "df_balanced_val_lung = df_balanced_val[[\"id\", \"Atelectasis\", \"Consolidation\", \"Edema\", \"Effusion\", \"Emphysema\", \"Fibrosis\", \"Hernia\", \"Infiltration\", \"Mass\", \"Nodule\", \"Pleural_Thickening\", \"Pneumonia\", \"Pneumothorax\", \"Pneumomediastinum\", \"No_Finding\", \"subject_id\"]]\n",
    "df_balanced_val_lung = df_balanced_val_lung.drop(df_balanced_val_lung[(df_balanced_val_lung.Atelectasis == 0) & (df_balanced_val_lung.Consolidation == 0) & (df_balanced_val_lung.Edema == 0) & (df_balanced_val_lung.Effusion == 0) & (df_balanced_val_lung.Emphysema == 0) & (df_balanced_val_lung.Fibrosis == 0) & (df_balanced_val_lung.Hernia == 0) & (df_balanced_val_lung.Infiltration == 0) & (df_balanced_val_lung.Mass == 0) & (df_balanced_val_lung.Nodule == 0) & (df_balanced_val_lung.Pleural_Thickening == 0) & (df_balanced_val_lung.Pneumonia == 0) & (df_balanced_val_lung.Pneumothorax == 0) & (df_balanced_val_lung.Pneumomediastinum == 0) & (df_balanced_val_lung.No_Finding == 0)].index)\n",
    "display(df_label_train_lung)\n",
    "\n",
    "#saving new dataframes\n",
    "df_label_train_heart.to_csv(csv_path + 'label_train_heart.csv', index=False)\n",
    "df_label_test_heart.to_csv(csv_path + 'label_test_heart.csv', index=False)\n",
    "df_balanced_test_heart.to_csv(csv_path + 'balanced_test_heart.csv', index=False)\n",
    "df_balanced_val_heart.to_csv(csv_path + 'balanced_val_heart.csv', index=False)\n",
    "df_label_train_lung.to_csv(csv_path + 'label_train_lung.csv', index=False)\n",
    "df_label_test_lung.to_csv(csv_path + 'label_test_lung.csv', index=False)\n",
    "df_balanced_test_lung.to_csv(csv_path + 'balanced_test_lung.csv', index=False)\n",
    "df_balanced_val_lung.to_csv(csv_path + 'balanced_val_lung.csv', index=False)"
   ]
  },
  {
   "cell_type": "code",
   "execution_count": null,
   "id": "70edbe6e-1f98-4312-a2ef-09d79ed13944",
   "metadata": {},
   "outputs": [],
   "source": [
    "#bar graph to show dispersion of dataset\n",
    "data = {'Heart':len(df_label_train_heart.index), 'Lung':len(df_label_train_lung.index)}\n",
    "area = list(data.keys())\n",
    "values = list(data.values())\n",
    "  \n",
    "fig = plt.figure(figsize = (10, 5))\n",
    "\n",
    "#creating the bar plot\n",
    "plt.bar(area, values)\n",
    " \n",
    "plt.xlabel(\"Area\")\n",
    "plt.ylabel(\"No. of entries\")\n",
    "plt.title(\"Dataset comparison dispersion\")\n",
    "plt.show()\n",
    "#compare amount of lung diseases in each dataset (train, test, bal_test, bal_val)\n",
    "\n",
    "#comparing instances if there is a finding or not\n",
    "num_rows_finding = len(df_label_train_lung[df_label_train_lung['No_Finding'] == 0].index)\n",
    "num_rows_no_finding = len(df_label_train_lung[df_label_train_lung['No_Finding'] == 1].index)\n",
    "  \n",
    "plt.bar('Finding' ,num_rows_finding, label= 'Finding')\n",
    "plt.bar('No Finding' ,num_rows_no_finding, label = 'No_Finding')\n",
    "plt.xlabel(\"Area\")\n",
    "plt.ylabel(\"No. of entries\")\n",
    "plt.title(\"Finding vs No Finding\")\n",
    "plt.show()\n",
    "\n",
    "#dispersion of the various afflictions\n",
    "num_rows_atelectasis = len(df_label_train_lung[df_label_train_lung['Atelectasis'] == 1].index)\n",
    "num_rows_consolidation = len(df_label_train_lung[df_label_train_lung['Consolidation'] == 1].index)\n",
    "num_rows_edema = len(df_label_train_lung[df_label_train_lung['Edema'] == 1].index)\n",
    "num_rows_effusion = len(df_label_train_lung[df_label_train_lung['Effusion'] == 1].index)\n",
    "num_rows_emphysema = len(df_label_train_lung[df_label_train_lung['Emphysema'] == 1].index)\n",
    "num_rows_fibrosis = len(df_label_train_lung[df_label_train_lung['Fibrosis'] == 1].index)\n",
    "num_rows_hernia = len(df_label_train_lung[df_label_train_lung['Hernia'] == 1].index)\n",
    "num_rows_infiltration = len(df_label_train_lung[df_label_train_lung['Infiltration'] == 1].index)\n",
    "num_rows_mass = len(df_label_train_lung[df_label_train_lung['Mass'] == 1].index)\n",
    "num_rows_nodule = len(df_label_train_lung[df_label_train_lung['Nodule'] == 1].index)\n",
    "num_rows_pleural_thickening = len(df_label_train_lung[df_label_train_lung['Pleural_Thickening'] == 1].index)\n",
    "num_rows_pneumonia = len(df_label_train_lung[df_label_train_lung['Pneumonia'] == 1].index)\n",
    "num_rows_pneumothorax = len(df_label_train_lung[df_label_train_lung['Pneumothorax'] == 1].index)\n",
    "num_rows_pneumomediastinum = len(df_label_train_lung[df_label_train_lung['Pneumomediastinum'] == 1].index)\n",
    "\n",
    "\n",
    "  \n",
    "fig = plt.figure(figsize = (26, 5))\n",
    "plt.bar('Atelectasis' ,num_rows_atelectasis, label= 'Atelectasis')\n",
    "plt.bar('Consolidation' ,num_rows_consolidation, label= 'Consolidation')\n",
    "plt.bar('Edema' ,num_rows_edema, label= 'Edema')\n",
    "plt.bar('Effusion' ,num_rows_effusion, label= 'Effusion')\n",
    "plt.bar('Emphysema' ,num_rows_emphysema, label= 'Emphysema')\n",
    "plt.bar('Fibrosis' ,num_rows_fibrosis, label= 'Fibrosis')\n",
    "plt.bar('Hernia' ,num_rows_hernia, label= 'Hernia')\n",
    "plt.bar('Infiltration' ,num_rows_infiltration, label= 'Infiltration')\n",
    "plt.bar('Mass' ,num_rows_mass, label= 'Mass')\n",
    "plt.bar('Nodule' ,num_rows_nodule, label= 'Nodule')\n",
    "plt.bar('Pleural_Thickening' ,num_rows_pleural_thickening, label= 'Pleural_Thickening')\n",
    "plt.bar('Pneumonia' ,num_rows_pneumonia, label= 'Pneumonia')\n",
    "plt.bar('Pneumothorax' ,num_rows_pneumothorax, label= 'Pneumothorax')\n",
    "plt.bar('Pneumomediastinum' ,num_rows_pneumomediastinum, label= 'Pneumomediastinum')\n",
    "\n",
    "plt.xlabel(\"Affliction\")\n",
    "plt.ylabel(\"No. of entries\")\n",
    "plt.title(\"Dispersion of Affliction\")\n",
    "plt.show()\n",
    "print(\"Instances of Pneumomediastinum:\", num_rows_pneumomediastinum)"
   ]
  },
  {
   "cell_type": "code",
   "execution_count": null,
   "id": "9a0be4af-ab8d-4660-9b84-655cd709b0f8",
   "metadata": {},
   "outputs": [],
   "source": [
    "#dropping rows with not many entries\n",
    "df_label_train_lung = df_label_train_lung.drop(df_label_train_lung[df_label_train_lung.Edema == 1].index) \n",
    "df_label_train_lung = df_label_train_lung.drop(df_label_train_lung[df_label_train_lung.Emphysema == 1].index) \n",
    "df_label_train_lung = df_label_train_lung.drop(df_label_train_lung[df_label_train_lung.Fibrosis == 1].index) \n",
    "df_label_train_lung = df_label_train_lung.drop(df_label_train_lung[df_label_train_lung.Hernia == 1].index) \n",
    "df_label_train_lung = df_label_train_lung.drop(df_label_train_lung[df_label_train_lung.Pneumonia == 1].index) \n",
    "df_label_train_lung = df_label_train_lung.drop(df_label_train_lung[df_label_train_lung.Pneumomediastinum == 1].index) \n",
    "\n",
    "df_label_test_lung = df_label_test_lung.drop(df_label_test_lung[df_label_test_lung.Edema == 1].index) \n",
    "df_label_test_lung = df_label_test_lung.drop(df_label_test_lung[df_label_test_lung.Emphysema == 1].index) \n",
    "df_label_test_lung = df_label_test_lung.drop(df_label_test_lung[df_label_test_lung.Fibrosis == 1].index) \n",
    "df_label_test_lung = df_label_test_lung.drop(df_label_test_lung[df_label_test_lung.Hernia == 1].index) \n",
    "df_label_test_lung = df_label_test_lung.drop(df_label_test_lung[df_label_test_lung.Pneumonia == 1].index) \n",
    "df_label_test_lung = df_label_test_lung.drop(df_label_test_lung[df_label_test_lung.Pneumomediastinum == 1].index) \n",
    "\n",
    "df_balanced_test_lung = df_balanced_test_lung.drop(df_balanced_test_lung[df_balanced_test_lung.Edema == 1].index) \n",
    "df_balanced_test_lung = df_balanced_test_lung.drop(df_balanced_test_lung[df_balanced_test_lung.Emphysema == 1].index) \n",
    "df_balanced_test_lung = df_balanced_test_lung.drop(df_balanced_test_lung[df_balanced_test_lung.Fibrosis == 1].index) \n",
    "df_balanced_test_lung = df_balanced_test_lung.drop(df_balanced_test_lung[df_balanced_test_lung.Hernia == 1].index) \n",
    "df_balanced_test_lung = df_balanced_test_lung.drop(df_balanced_test_lung[df_balanced_test_lung.Pneumonia == 1].index) \n",
    "df_balanced_test_lung = df_balanced_test_lung.drop(df_balanced_test_lung[df_balanced_test_lung.Pneumomediastinum == 1].index) \n",
    "\n",
    "df_balanced_val_lung = df_balanced_val_lung.drop(df_balanced_val_lung[df_balanced_val_lung.Edema == 1].index) \n",
    "df_balanced_val_lung = df_balanced_val_lung.drop(df_balanced_val_lung[df_balanced_val_lung.Emphysema == 1].index) \n",
    "df_balanced_val_lung = df_balanced_val_lung.drop(df_balanced_val_lung[df_balanced_val_lung.Fibrosis == 1].index) \n",
    "df_balanced_val_lung = df_balanced_val_lung.drop(df_balanced_val_lung[df_balanced_val_lung.Hernia == 1].index) \n",
    "df_balanced_val_lung = df_balanced_val_lung.drop(df_balanced_val_lung[df_balanced_val_lung.Pneumonia == 1].index) \n",
    "df_balanced_val_lung = df_balanced_val_lung.drop(df_balanced_val_lung[df_balanced_val_lung.Pneumomediastinum == 1].index) \n",
    "\n",
    "display(df_label_train_lung)"
   ]
  },
  {
   "cell_type": "code",
   "execution_count": null,
   "id": "4dcecf97-01fe-41a9-87d8-19f0c86b2676",
   "metadata": {},
   "outputs": [],
   "source": [
    "#add pathing to front of images in csv (chest_xrays/)\n",
    "df_label_train_lung['id'] = 'chest_xrays/' + df_label_train_lung['id'].astype(str)\n",
    "display(df_label_train_lung)\n",
    "#add pathing to front of images in csv (chest_xrays/)\n",
    "df_balanced_val_lung['id'] = 'chest_xrays/' + df_balanced_val_lung['id'].astype(str)\n",
    "df_balanced_test_lung['id'] = 'chest_xrays/' + df_balanced_test_lung['id'].astype(str)"
   ]
  },
  {
   "cell_type": "code",
   "execution_count": null,
   "id": "22b3b8a9-c114-4234-87e7-f81d6ff2df07",
   "metadata": {},
   "outputs": [],
   "source": [
    "# from sklearn.preprocessing import LabelEncoder\n",
    "#may have to one hot encode No_Finding (not completely sure)\n",
    "# encode = LabelEncoder()"
   ]
  },
  {
   "cell_type": "code",
   "execution_count": null,
   "id": "2cdee692-3007-489c-b17d-2b4ad80c6ec1",
   "metadata": {},
   "outputs": [],
   "source": [
    "# For_Prediction_Class = encode.fit_transform(df_label_train_lung[\"No_Finding\"])"
   ]
  },
  {
   "cell_type": "code",
   "execution_count": null,
   "id": "00e18ee7-f680-4eea-9f30-5aed06f3525f",
   "metadata": {},
   "outputs": [],
   "source": [
    "#preprocessing and splitting of train and test data\n",
    "Train_Generator = ImageDataGenerator(rescale=1./255,\n",
    "                                    shear_range=0.3,\n",
    "                                    zoom_range=0.2,\n",
    "                                    brightness_range=[0.2,0.9],\n",
    "                                    rotation_range=30,\n",
    "                                    horizontal_flip=True,\n",
    "                                    vertical_flip=True,\n",
    "                                    fill_mode=\"nearest\",\n",
    "                                    validation_split=0.1)"
   ]
  },
  {
   "cell_type": "code",
   "execution_count": null,
   "id": "e2a3eeb0-460c-4438-997a-7d7fe5a1923e",
   "metadata": {},
   "outputs": [],
   "source": [
    "#preprocessing of training images\n",
    "Train_IMG_Set = Train_Generator.flow_from_dataframe(dataframe=df_label_train_lung,\n",
    "                                                   x_col=\"id\",\n",
    "                                                   y_col=\"No_Finding\", #can add more categories here\n",
    "                                                   color_mode=\"rgb\",\n",
    "                                                   class_mode=\"raw\",\n",
    "                                                   batch_size=4,\n",
    "                                                   subset=\"training\")"
   ]
  },
  {
   "cell_type": "code",
   "execution_count": null,
   "id": "f5827552-aa2d-4a85-b3d1-69d108677941",
   "metadata": {},
   "outputs": [],
   "source": [
    "Validation_Generator = ImageDataGenerator(rescale=1./255,\n",
    "                                    shear_range=0.3,\n",
    "                                    zoom_range=0.2,\n",
    "                                    brightness_range=[0.2,0.9],\n",
    "                                    rotation_range=30,\n",
    "                                    horizontal_flip=True,\n",
    "                                    vertical_flip=True,\n",
    "                                    fill_mode=\"nearest\",\n",
    "                                    validation_split=0.1)"
   ]
  },
  {
   "cell_type": "code",
   "execution_count": null,
   "id": "9b53109f-ae70-4dc1-bda7-e35bb06b9f7e",
   "metadata": {},
   "outputs": [],
   "source": [
    "#preprocessing of validation images\n",
    "Validation_IMG_Set = Validation_Generator.flow_from_dataframe(dataframe=df_balanced_val_lung,\n",
    "                                                   x_col=\"id\",\n",
    "                                                   y_col=\"No_Finding\",\n",
    "                                                   color_mode=\"rgb\",\n",
    "                                                   class_mode=\"raw\",\n",
    "                                                   batch_size=4,\n",
    "                                                   subset=\"validation\")"
   ]
  },
  {
   "cell_type": "code",
   "execution_count": null,
   "id": "fe2e38cc-2852-4ee0-a89b-c43383e5e2de",
   "metadata": {},
   "outputs": [],
   "source": [
    "Test_Generator = ImageDataGenerator(rescale=1./255)"
   ]
  },
  {
   "cell_type": "code",
   "execution_count": null,
   "id": "4c660983-fa92-4172-afc0-3e509dc8aaf7",
   "metadata": {},
   "outputs": [],
   "source": [
    "#preprocessing of testing images\n",
    "Test_IMG_Set = Test_Generator.flow_from_dataframe(dataframe=df_balanced_test_lung,\n",
    "                                                 x_col=\"id\",\n",
    "                                                 y_col=\"No_Finding\",\n",
    "                                                 color_mode=\"rgb\",\n",
    "                                                 class_mode=\"raw\",\n",
    "                                                 batch_size=4)"
   ]
  },
  {
   "cell_type": "code",
   "execution_count": null,
   "id": "a4105456-1b4a-4709-a0a9-a5cdee67d0f6",
   "metadata": {},
   "outputs": [],
   "source": [
    "#additional image preprocessing \n",
    "#possibilities : remove some no finding, limit afflictions we are testing for, add cluster column, alter resolution"
   ]
  },
  {
   "cell_type": "code",
   "execution_count": null,
   "id": "36057513-34dd-446c-ae37-5d6b689aa2b8",
   "metadata": {},
   "outputs": [],
   "source": [
    "#validating shapes\n",
    "for data_batch,label_batch in Train_IMG_Set:\n",
    "    print(\"DATA SHAPE: \",data_batch.shape)\n",
    "    print(\"LABEL SHAPE: \",label_batch.shape)\n",
    "    break#validating shapes for the model"
   ]
  },
  {
   "cell_type": "code",
   "execution_count": null,
   "id": "f1a7c0d1-21aa-489c-91aa-89aac7d53399",
   "metadata": {},
   "outputs": [],
   "source": [
    "for data_batch,label_batch in Validation_IMG_Set:\n",
    "    print(\"DATA SHAPE: \",data_batch.shape)\n",
    "    print(\"LABEL SHAPE: \",label_batch.shape)\n",
    "    break"
   ]
  },
  {
   "cell_type": "code",
   "execution_count": null,
   "id": "bc543c17-7e6b-44b6-9b3e-cc3f6b7a17af",
   "metadata": {},
   "outputs": [],
   "source": [
    "for data_batch,label_batch in Test_IMG_Set:\n",
    "    print(\"DATA SHAPE: \",data_batch.shape)\n",
    "    print(\"LABEL SHAPE: \",label_batch.shape)\n",
    "    break"
   ]
  },
  {
   "cell_type": "code",
   "execution_count": null,
   "id": "821a2d1b-a4b3-4c82-9a51-ef4995759edb",
   "metadata": {},
   "outputs": [],
   "source": [
    "#implementing various machine learning models:\n",
    "#RESNET - David\n",
    "#LENET - Siyung\n",
    "#ALEXNET - John\n",
    "#BASICCNN - Jagrit"
   ]
  },
  {
   "cell_type": "code",
   "execution_count": null,
   "id": "2077bf00-8384-4f35-91a3-5918251135b1",
   "metadata": {},
   "outputs": [],
   "source": []
  },
  {
   "cell_type": "code",
   "execution_count": null,
   "id": "7095b0fd",
   "metadata": {},
   "outputs": [],
   "source": []
  }
 ],
 "metadata": {
  "kernelspec": {
   "display_name": "Python 2",
   "language": "python",
   "name": "python2"
  },
  "language_info": {
   "codemirror_mode": {
    "name": "ipython",
    "version": 2
   },
   "file_extension": ".py",
   "mimetype": "text/x-python",
   "name": "python",
   "nbconvert_exporter": "python",
   "pygments_lexer": "ipython2",
   "version": "2.7.18"
  }
 },
 "nbformat": 4,
 "nbformat_minor": 5
}
