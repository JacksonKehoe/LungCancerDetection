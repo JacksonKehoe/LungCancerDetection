{
 "cells": [
  {
   "cell_type": "code",
   "execution_count": null,
   "id": "8af4d46e-e505-47b5-afe9-b5aef90fed6e",
   "metadata": {},
   "outputs": [],
   "source": [
    "#This file will be used for rough code/experimentation"
   ]
  }
 ],
 "metadata": {
  "kernelspec": {
   "display_name": "Python 3",
   "language": "python",
   "name": "python3"
  },
  "language_info": {
   "codemirror_mode": {
    "name": "ipython",
    "version": 3
   },
   "file_extension": ".py",
   "mimetype": "text/x-python",
   "name": "python",
   "nbconvert_exporter": "python",
   "pygments_lexer": "ipython3",
   "version": "3.8.8"
  }
 },
 "nbformat": 4,
 "nbformat_minor": 5
}
