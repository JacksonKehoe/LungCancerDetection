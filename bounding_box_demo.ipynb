{
 "cells": [
  {
   "cell_type": "code",
   "execution_count": 41,
   "id": "2b3a3d27-6109-4603-81c5-23eb11665150",
   "metadata": {},
   "outputs": [
    {
     "name": "stdout",
     "output_type": "stream",
     "text": [
      "Running on local URL:  http://127.0.0.1:7939\n",
      "\n",
      "To create a public link, set `share=True` in `launch()`.\n"
     ]
    },
    {
     "data": {
      "text/html": [
       "<div><iframe src=\"http://127.0.0.1:7939/\" width=\"100%\" height=\"500\" allow=\"autoplay; camera; microphone; clipboard-read; clipboard-write;\" frameborder=\"0\" allowfullscreen></iframe></div>"
      ],
      "text/plain": [
       "<IPython.core.display.HTML object>"
      ]
     },
     "metadata": {},
     "output_type": "display_data"
    },
    {
     "data": {
      "text/plain": []
     },
     "execution_count": 41,
     "metadata": {},
     "output_type": "execute_result"
    }
   ],
   "source": [
    "import gradio as gr\n",
    "import pandas as pd\n",
    "import matplotlib.pyplot as plt\n",
    "import matplotlib.patches as patches\n",
    "from PIL import Image\n",
    "from PIL import Image, ImageDraw\n",
    "\n",
    "def draw_bounding_boxes(image_array, ground_truth, prediction):\n",
    "    # create PIL Image object from numpy array\n",
    "    image = Image.fromarray(image_array)\n",
    "\n",
    "    # get image dimensions\n",
    "    image_width, image_height = image.size\n",
    "\n",
    "    # create draw object\n",
    "    draw = ImageDraw.Draw(image)\n",
    "\n",
    "    # convert string representation of coordinates to lists of floats\n",
    "    gt_coords = eval(ground_truth)\n",
    "    pred_coords = eval(prediction)\n",
    "\n",
    "    # calculate scaling factor\n",
    "    x_scale = image_width / 224  # replace 224 with the width of your input image\n",
    "    y_scale = image_height / 224  # replace 224 with the height of your input image\n",
    "\n",
    "    # scale the coordinates\n",
    "    gt_box = ((gt_coords[0]*x_scale, gt_coords[1]*y_scale), ((gt_coords[0]+gt_coords[2])*x_scale, (gt_coords[1]+gt_coords[3])*y_scale))\n",
    "    pred_box = ((pred_coords[0]*x_scale, pred_coords[1]*y_scale), ((pred_coords[0]+pred_coords[2])*x_scale, (pred_coords[1]+pred_coords[3])*y_scale))\n",
    "\n",
    "    # draw ground truth bounding box\n",
    "    draw.rectangle(gt_box, outline=\"green\", width=3)\n",
    "\n",
    "    # draw predicted bounding box\n",
    "    draw.rectangle(pred_box, outline=\"blue\", width=3)\n",
    "\n",
    "    return image\n",
    "\n",
    "# Load the CSV file\n",
    "df = pd.read_csv('bounding_boxes.csv', index_col=0)\n",
    "\n",
    "# Define the Gradio interface\n",
    "iface = gr.Interface(\n",
    "    fn=draw_bounding_boxes,\n",
    "    inputs=[\"image\", \"text\", \"text\"],\n",
    "    outputs=\"image\",\n",
    "    title=\"Bounding Box Visualizer\",\n",
    "    description=\"Choose an image and with corresponding ground truth bounding box and predicted bounding box\",\n",
    "    examples=[\n",
    "        [\"chest_xrays/00020393_001.png\", \"[51.91111111, 49.77777778, 16.59259259, 15.40740741]\", \"[140.49887, 113.11611, 9.476186, 2.8113284]\"],\n",
    "        [\"chest_xrays/00013673_001.png\", \"[32.94814815, 95.28888889, 17.77777778, 15.40740741]\", \"[95.27846, 105.217926, 16.763569, 6.3933396]\"],\n",
    "        [\"chest_xrays/00014177_010.png\", \"[41.48148148, 85.0962963,  27.73333333, 50.72592593]\", \"[105.9426, 80.50876, 23.117188, 8.876661]\"],\n",
    "        [\"chest_xrays/00012374_000.png\", \"[143.40740741, 56.17777778, 18.01481481, 17.54074074]\", \"[93.82666, 71.32703, 16.710735, 31.80403 ]\"],\n",
    "        [\"chest_xrays/00018366_010.png\", \"[156.17777778, 64.28385362, 29.12, 43.55555556]\", \"[57.560444, 139.21758, 3.2135038, -9.820389 ]\"],\n",
    "        [\"chest_xrays/00012592_005.png\", \"[168.77037037, 115.43703704, 18.96296296, 14.45925926]\", \"[82.57627, 78.38025, 26.387049, 10.827974]\"],\n",
    "        [\"chest_xrays/00018427_004.png\", \"[116.38518519, 71.82222222, 23.46666667, 22.04444444]\", \"[116.100845, 109.87551, 21.466022, 12.846278]\"],\n",
    "        [\"chest_xrays/00009403_006.png\", \"[163.79259259, 91.25925926, 16.59259259, 11.37777778]\", \"[71.373405, 102.41903, 29.683567, 28.938576]\"]\n",
    "     ],\n",
    "    allow_flagging=False\n",
    ")\n",
    "\n",
    "# Start the Gradio interface\n",
    "iface.launch()"
   ]
  },
  {
   "cell_type": "code",
   "execution_count": null,
   "id": "36d5fd77-9cd5-46f7-a500-6760400fc813",
   "metadata": {},
   "outputs": [],
   "source": []
  }
 ],
 "metadata": {
  "kernelspec": {
   "display_name": "Python 3 (ipykernel)",
   "language": "python",
   "name": "python3"
  },
  "language_info": {
   "codemirror_mode": {
    "name": "ipython",
    "version": 3
   },
   "file_extension": ".py",
   "mimetype": "text/x-python",
   "name": "python",
   "nbconvert_exporter": "python",
   "pygments_lexer": "ipython3",
   "version": "3.8.8"
  }
 },
 "nbformat": 4,
 "nbformat_minor": 5
}
