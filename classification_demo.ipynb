{
 "cells": [
  {
   "cell_type": "code",
   "execution_count": 72,
   "id": "5193471f-4a68-48d4-8321-8811ccb16171",
   "metadata": {},
   "outputs": [
    {
     "name": "stdout",
     "output_type": "stream",
     "text": [
      "Running on local URL:  http://127.0.0.1:7938\n",
      "\n",
      "To create a public link, set `share=True` in `launch()`.\n"
     ]
    },
    {
     "data": {
      "text/html": [
       "<div><iframe src=\"http://127.0.0.1:7938/\" width=\"100%\" height=\"500\" allow=\"autoplay; camera; microphone; clipboard-read; clipboard-write;\" frameborder=\"0\" allowfullscreen></iframe></div>"
      ],
      "text/plain": [
       "<IPython.core.display.HTML object>"
      ]
     },
     "metadata": {},
     "output_type": "display_data"
    },
    {
     "data": {
      "text/plain": []
     },
     "execution_count": 72,
     "metadata": {},
     "output_type": "execute_result"
    }
   ],
   "source": [
    "import tensorflow as tf\n",
    "from PIL import Image\n",
    "import numpy as np\n",
    "import random\n",
    "\n",
    "# Load the VGG16 model\n",
    "model = tf.keras.models.load_model('vgg16.h5')\n",
    "\n",
    "# def random_output():\n",
    "#     value = random.randint(0, 1)\n",
    "#     if value == 0:\n",
    "#         return \"Cancer negative\"\n",
    "#     else:\n",
    "#         return \"Cancer positive\"\n",
    "    \n",
    "\n",
    "def predict_with_threshold(prediction, threshold=0.5):\n",
    "    if prediction[0][1] > threshold or prediction[0][0] < threshold:\n",
    "        return \"Cancer Positive\" if prediction[0][1] > prediction[0][0] else \"Cancer Negative\"\n",
    "\n",
    "def predict_image(image):\n",
    "    # Convert the image to a numpy array\n",
    "    image_array = np.array(image)\n",
    "    # Resize the image to (224, 224) as required by VGG16\n",
    "    image_array = tf.image.resize(image_array, size=(256, 256))\n",
    "    # Normalize the image values to be between 0 and 1\n",
    "    image_array = image_array / 255.0\n",
    "    # Add an extra dimension to the image array to match the input shape of VGG16\n",
    "    image_array = tf.expand_dims(image_array, axis=0)\n",
    "    # Use the VGG16 model to make a prediction\n",
    "    prediction = model.predict(image_array)\n",
    "    # Return the predicted class (0 for cancer negative, 1 for cancer positive)\n",
    "    # return random_output()\n",
    "    return predict_with_threshold(prediction)\n",
    "\n",
    "import gradio as gr\n",
    "\n",
    "# Define the input and output components\n",
    "inputs = gr.inputs.Image(shape=(224,224))\n",
    "outputs = gr.outputs.Label()\n",
    "\n",
    "# Create the interface\n",
    "gr.Interface(fn=predict_image, inputs=inputs, outputs=outputs, \n",
    "             title=\"Cancer Diagnosis\", \n",
    "             description=\"Upload an X-ray image and get a prediction whether it is cancerous or not.\").launch()"
   ]
  },
  {
   "cell_type": "code",
   "execution_count": null,
   "id": "73c7f1c3-f71a-4fb5-980a-cb1393381ef1",
   "metadata": {},
   "outputs": [],
   "source": []
  }
 ],
 "metadata": {
  "kernelspec": {
   "display_name": "Python 3 (ipykernel)",
   "language": "python",
   "name": "python3"
  },
  "language_info": {
   "codemirror_mode": {
    "name": "ipython",
    "version": 3
   },
   "file_extension": ".py",
   "mimetype": "text/x-python",
   "name": "python",
   "nbconvert_exporter": "python",
   "pygments_lexer": "ipython3",
   "version": "3.8.8"
  }
 },
 "nbformat": 4,
 "nbformat_minor": 5
}
